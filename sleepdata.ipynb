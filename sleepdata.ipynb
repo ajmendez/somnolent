{
 "metadata": {
  "name": "",
  "signature": "sha256:57ce31597e6427170a962a974347ae78db9ed627d2ccd406051d43f9eaeaec58"
 },
 "nbformat": 3,
 "nbformat_minor": 0,
 "worksheets": [
  {
   "cells": [
    {
     "cell_type": "code",
     "collapsed": false,
     "input": [
      "import time\n",
      "import sqlite3\n",
      "import dataset\n",
      "import pandas as pd\n",
      "from datetime import datetime"
     ],
     "language": "python",
     "metadata": {},
     "outputs": [],
     "prompt_number": 159
    },
    {
     "cell_type": "code",
     "collapsed": false,
     "input": [
      "db = dataset.connect('sqlite:///data/current.sqlite')\n",
      "# db = dataset.connect('sqlite:///data/f2c74a8ab2a40bdae1796ae48dc47e19a69a52b0')"
     ],
     "language": "python",
     "metadata": {},
     "outputs": [],
     "prompt_number": 89
    },
    {
     "cell_type": "code",
     "collapsed": false,
     "input": [
      "for tablename in db.tables:\n",
      "    print tablename, db[tablename].columns"
     ],
     "language": "python",
     "metadata": {},
     "outputs": [
      {
       "output_type": "stream",
       "stream": "stdout",
       "text": [
        "Z_METADATA ['Z_VERSION', 'Z_UUID', 'Z_PLIST']\n",
        "ZSLEEPEVENT ['Z_PK', 'Z_ENT', 'Z_OPT', 'ZTYPE', 'ZSLEEPSESSION', 'ZINTENSITY', 'ZTIME']\n",
        "ZLOG ['Z_PK', 'Z_ENT', 'Z_OPT', 'ZDATE', 'ZTEXT']\n",
        "ZSLEEPNOTE ['Z_PK', 'Z_ENT', 'Z_OPT', 'ZSORTORDER', 'ZNAME']\n",
        "ZSLEEPSESSION ['Z_PK', 'Z_ENT', 'Z_OPT', 'ZALARMMODE', 'ZRATING', 'ZSECONDSFROMGMT', 'ZSESSIONSTATE', 'ZSLEEPSERVERID', 'ZSTATVERSION', 'ZSTATWAKEUPS', 'ZSESSIONEND', 'ZSESSIONSTART', 'ZSTATMOVEMENTSPERHOUR', 'ZSTATSLEEPQUALITY', 'ZSTATTIMEASLEEP', 'ZSTATTIMEBEFORESLEEP', 'ZSTATTOTALDURATION', 'ZWOFFSETSTART', 'ZWOFFSETSTOP', 'ZWINDOWSTART', 'ZWINDOWSTOP', 'ZSESSIONENDTIMEZONE', 'ZSESSIONSTARTTIMEZONE']\n",
        "Z_PRIMARYKEY ['Z_ENT', 'Z_NAME', 'Z_SUPER', 'Z_MAX']\n",
        "Z_3SLEEPSESSIONS ['Z_3SLEEPNOTES', 'Z_4SLEEPSESSIONS']\n"
       ]
      }
     ],
     "prompt_number": 3
    },
    {
     "cell_type": "code",
     "collapsed": false,
     "input": [
      "def plotsleep():\n",
      "    x = [tmp['ZTIME'] for tmp in db['ZSLEEPEVENT']]\n",
      "    y = [tmp['ZINTENSITY'] for tmp in db['ZSLEEPEVENT']]\n",
      "    pylab.plot(x,y, '.')\n",
      "plotsleep()"
     ],
     "language": "python",
     "metadata": {},
     "outputs": [
      {
       "output_type": "stream",
       "stream": "stderr",
       "text": [
        "WARNING:dataset.persistence.table:query cannot be broken into smaller sections because it is unordered\n"
       ]
      },
      {
       "output_type": "stream",
       "stream": "stderr",
       "text": [
        "WARNING:dataset.persistence.table:query cannot be broken into smaller sections because it is unordered\n"
       ]
      },
      {
       "metadata": {},
       "output_type": "display_data",
       "png": "[encoded data removed]",
       "text": [
        "<matplotlib.figure.Figure at 0x10a4c28d0>"
       ]
      }
     ],
     "prompt_number": 9
    },
    {
     "cell_type": "code",
     "collapsed": false,
     "input": [
      "for item in db['ZSLEEPEVENT'].all():\n",
      "    for key,value in item.iteritems():\n",
      "        print key, value\n",
      "    break"
     ],
     "language": "python",
     "metadata": {},
     "outputs": [
      {
       "output_type": "stream",
       "stream": "stderr",
       "text": [
        "WARNING:dataset.persistence.table:query cannot be broken into smaller sections because it is unordered\n"
       ]
      },
      {
       "output_type": "stream",
       "stream": "stdout",
       "text": [
        "Z_PK 1\n",
        "Z_ENT 2\n",
        "Z_OPT 1\n",
        "ZTYPE 3\n",
        "ZSLEEPSESSION 1\n",
        "ZINTENSITY 0.0158291940277\n",
        "ZTIME 1970-01-05 19:45:33.787104\n"
       ]
      }
     ],
     "prompt_number": 52
    },
    {
     "cell_type": "code",
     "collapsed": false,
     "input": [
      "for key,value in db['ZSLEEPSESSION'].find_one(Z_PK=1).iteritems():\n",
      "    print key, value\n",
      "for key,value in db['ZSLEEPSESSION'].find_one(Z_PK=3).iteritems():\n",
      "    print key, value"
     ],
     "language": "python",
     "metadata": {},
     "outputs": [
      {
       "output_type": "stream",
       "stream": "stdout",
       "text": [
        "Z_PK 1\n",
        "Z_ENT 4\n",
        "Z_OPT 232\n",
        "ZALARMMODE 0\n",
        "ZRATING 0\n",
        "ZSECONDSFROMGMT -25200\n",
        "ZSESSIONSTATE 2\n",
        "ZSLEEPSERVERID 0\n",
        "ZSTATVERSION 1\n",
        "ZSTATWAKEUPS 0\n",
        "ZSESSIONEND 1970-01-05 19:45:59.475628\n",
        "ZSESSIONSTART 1970-01-05 19:45:33.726990\n",
        "ZSTATMOVEMENTSPERHOUR 99.1127052504\n",
        "ZSTATSLEEPQUALITY 0.56756948148\n",
        "ZSTATTIMEASLEEP 0.0\n",
        "ZSTATTIMEBEFORESLEEP 0.0\n",
        "ZSTATTOTALDURATION 25748.638382\n",
        "ZWOFFSETSTART 416757840.0\n",
        "ZWOFFSETSTOP 416759220.0\n",
        "ZWINDOWSTART 416757600.0\n",
        "ZWINDOWSTOP 416759400.0\n",
        "ZSESSIONENDTIMEZONE America/Los_Angeles\n",
        "ZSESSIONSTARTTIMEZONE America/Los_Angeles\n",
        "Z_PK 3\n",
        "Z_ENT 4\n",
        "Z_OPT 155\n",
        "ZALARMMODE 0\n",
        "ZRATING 3\n",
        "ZSECONDSFROMGMT -25200\n",
        "ZSESSIONSTATE 2\n",
        "ZSLEEPSERVERID 0\n",
        "ZSTATVERSION 1\n",
        "ZSTATWAKEUPS 0\n",
        "ZSESSIONEND 1970-01-05 19:47:29.444326\n",
        "ZSESSIONSTART 1970-01-05 19:47:07.212171\n",
        "ZSTATMOVEMENTSPERHOUR 42.8785620637\n",
        "ZSTATSLEEPQUALITY 0.636756119372\n",
        "ZSTATTIMEASLEEP 0.0\n",
        "ZSTATTIMEBEFORESLEEP 0.0\n",
        "ZSTATTOTALDURATION 22232.155327\n",
        "ZWOFFSETSTART 416847720.0\n",
        "ZWOFFSETSTOP 416849220.0\n",
        "ZWINDOWSTART 416847600.0\n",
        "ZWINDOWSTOP 416849400.0\n",
        "ZSESSIONENDTIMEZONE America/Los_Angeles\n",
        "ZSESSIONSTARTTIMEZONE America/Los_Angeles\n"
       ]
      }
     ],
     "prompt_number": 95
    },
    {
     "cell_type": "code",
     "collapsed": false,
     "input": [
      "dates = [row['ZDATE'] for row in db['ZLOG']]"
     ],
     "language": "python",
     "metadata": {},
     "outputs": [],
     "prompt_number": 90
    },
    {
     "cell_type": "code",
     "collapsed": false,
     "input": [
      "pylab.plot(dates, '.');"
     ],
     "language": "python",
     "metadata": {},
     "outputs": [
      {
       "metadata": {},
       "output_type": "display_data",
       "png": "[encoded data removed]",
       "text": [
        "<matplotlib.figure.Figure at 0x10e931910>"
       ]
      }
     ],
     "prompt_number": 15
    },
    {
     "cell_type": "code",
     "collapsed": false,
     "input": [
      "1394950201+ 423941580.0"
     ],
     "language": "python",
     "metadata": {},
     "outputs": [
      {
       "metadata": {},
       "output_type": "pyout",
       "prompt_number": 60,
       "text": [
        "1818891781.0"
       ]
      }
     ],
     "prompt_number": 60
    },
    {
     "cell_type": "code",
     "collapsed": false,
     "input": [
      "times = [tmp['ZTIME'] for tmp in db['ZSLEEPEVENT']]"
     ],
     "language": "python",
     "metadata": {},
     "outputs": [
      {
       "output_type": "stream",
       "stream": "stderr",
       "text": [
        "WARNING:dataset.persistence.table:query cannot be broken into smaller sections because it is unordered\n"
       ]
      }
     ],
     "prompt_number": 138
    },
    {
     "cell_type": "code",
     "collapsed": false,
     "input": [
      "plot(times, '.', alpha=0.01)"
     ],
     "language": "python",
     "metadata": {},
     "outputs": [
      {
       "metadata": {},
       "output_type": "pyout",
       "prompt_number": 139,
       "text": [
        "[<matplotlib.lines.Line2D at 0x10ea91b90>]"
       ]
      },
      {
       "metadata": {},
       "output_type": "display_data",
       "png": "[encoded data removed]",
       "text": [
        "<matplotlib.figure.Figure at 0x10eeb1d50>"
       ]
      }
     ],
     "prompt_number": 139
    },
    {
     "cell_type": "code",
     "collapsed": false,
     "input": [
      "x = times[-1]-times[0]\n",
      "y = (times[0] - datetime.datetime(1970,1,1)).total_seconds()\n",
      "print times[0]\n",
      "print times[-1]\n",
      "print x\n",
      "print y"
     ],
     "language": "python",
     "metadata": {},
     "outputs": [
      {
       "output_type": "stream",
       "stream": "stdout",
       "text": [
        "1970-01-05 19:45:33.787104\n",
        "1970-01-05 21:45:26.789364\n",
        "1:59:53.002260\n",
        "416733.787104\n"
       ]
      }
     ],
     "prompt_number": 81
    },
    {
     "cell_type": "code",
     "collapsed": false,
     "input": [
      "plot(times)"
     ],
     "language": "python",
     "metadata": {},
     "outputs": [
      {
       "metadata": {},
       "output_type": "pyout",
       "prompt_number": 82,
       "text": [
        "[<matplotlib.lines.Line2D at 0x10eda0310>]"
       ]
      },
      {
       "metadata": {},
       "output_type": "display_data",
       "png": "[encoded data removed]",
       "text": [
        "<matplotlib.figure.Figure at 0x10ed7b590>"
       ]
      }
     ],
     "prompt_number": 82
    },
    {
     "cell_type": "code",
     "collapsed": false,
     "input": [
      "print len(dates), len(times)"
     ],
     "language": "python",
     "metadata": {},
     "outputs": [
      {
       "output_type": "stream",
       "stream": "stdout",
       "text": [
        "4386 11904\n"
       ]
      }
     ],
     "prompt_number": 92
    },
    {
     "cell_type": "code",
     "collapsed": false,
     "input": [
      "print len(dates), len(times)"
     ],
     "language": "python",
     "metadata": {},
     "outputs": [
      {
       "output_type": "stream",
       "stream": "stdout",
       "text": [
        "5346 7219\n"
       ]
      }
     ],
     "prompt_number": 88
    },
    {
     "cell_type": "code",
     "collapsed": false,
     "input": [
      "25748.638382/3600."
     ],
     "language": "python",
     "metadata": {},
     "outputs": [
      {
       "metadata": {},
       "output_type": "pyout",
       "prompt_number": 96,
       "text": [
        "7.152399550555556"
       ]
      }
     ],
     "prompt_number": 96
    },
    {
     "cell_type": "code",
     "collapsed": false,
     "input": [
      "times[0]"
     ],
     "language": "python",
     "metadata": {},
     "outputs": [
      {
       "metadata": {},
       "output_type": "pyout",
       "prompt_number": 97,
       "text": [
        "datetime.datetime(1970, 1, 5, 19, 45, 33, 787104)"
       ]
      }
     ],
     "prompt_number": 97
    },
    {
     "cell_type": "code",
     "collapsed": false,
     "input": [
      "startdate = datetime(1970, 1, 5, 19, 45, 33, 726990)\n",
      "delta =  (datetime(2014,3,17,7,22)-datetime(1970, 1, 1)).total_seconds()\n",
      "\n",
      "def convert_time(t):\n",
      "    return datetime.fromtimestamp( 1000.0*(t-startdate).total_seconds() + delta )\n",
      "    "
     ],
     "language": "python",
     "metadata": {},
     "outputs": [],
     "prompt_number": 209
    },
    {
     "cell_type": "code",
     "collapsed": false,
     "input": [
      "plot([convert_time(x['ZSESSIONSTART']) for x in db['ZSLEEPSESSION']], '.')"
     ],
     "language": "python",
     "metadata": {},
     "outputs": [
      {
       "metadata": {},
       "output_type": "pyout",
       "prompt_number": 201,
       "text": [
        "[<matplotlib.lines.Line2D at 0x10f71bad0>]"
       ]
      },
      {
       "metadata": {},
       "output_type": "display_data",
       "png": "[encoded data removed]",
       "text": [
        "<matplotlib.figure.Figure at 0x10f581850>"
       ]
      }
     ],
     "prompt_number": 201
    },
    {
     "cell_type": "code",
     "collapsed": false,
     "input": [
      "#(max([x['ZSESSIONSTART'] for x in db['ZSLEEPSESSION']])-\n",
      "# datetime(1970, 1, 1)).total_seconds()\n",
      "# (min([x['ZSESSIONSTART'] for x in db['ZSLEEPSESSION']]) - \n",
      "#  datetime(2001, 1, 1, 18)).total_seconds()\n",
      "times = [x['ZSESSIONSTART'] for x in db['ZSLEEPSESSION']]\n",
      "# (times[1]-times[0]).total_seconds()\n"
     ],
     "language": "python",
     "metadata": {},
     "outputs": [
      {
       "ename": "TypeError",
       "evalue": "unsupported operand type(s) for *: 'datetime.datetime' and 'int'",
       "output_type": "pyerr",
       "traceback": [
        "\u001b[0;31m---------------------------------------------------------------------------\u001b[0m\n\u001b[0;31mTypeError\u001b[0m                                 Traceback (most recent call last)",
        "\u001b[0;32m<ipython-input-142-d00b4337ba5b>\u001b[0m in \u001b[0;36m<module>\u001b[0;34m()\u001b[0m\n\u001b[1;32m      3\u001b[0m \u001b[0;31m# (min([x['ZSESSIONSTART'] for x in db['ZSLEEPSESSION']]) -\u001b[0m\u001b[0;34m\u001b[0m\u001b[0;34m\u001b[0m\u001b[0m\n\u001b[1;32m      4\u001b[0m \u001b[0;31m#  datetime(2001, 1, 1, 18)).total_seconds()\u001b[0m\u001b[0;34m\u001b[0m\u001b[0;34m\u001b[0m\u001b[0m\n\u001b[0;32m----> 5\u001b[0;31m \u001b[0mtimes\u001b[0m \u001b[0;34m=\u001b[0m \u001b[0mnp\u001b[0m\u001b[0;34m.\u001b[0m\u001b[0marray\u001b[0m\u001b[0;34m(\u001b[0m\u001b[0;34m[\u001b[0m\u001b[0mx\u001b[0m\u001b[0;34m[\u001b[0m\u001b[0;34m'ZSESSIONSTART'\u001b[0m\u001b[0;34m]\u001b[0m \u001b[0;32mfor\u001b[0m \u001b[0mx\u001b[0m \u001b[0;32min\u001b[0m \u001b[0mdb\u001b[0m\u001b[0;34m[\u001b[0m\u001b[0;34m'ZSLEEPSESSION'\u001b[0m\u001b[0;34m]\u001b[0m\u001b[0;34m]\u001b[0m\u001b[0;34m)\u001b[0m\u001b[0;34m*\u001b[0m\u001b[0;36m100\u001b[0m\u001b[0;34m\u001b[0m\u001b[0m\n\u001b[0m\u001b[1;32m      6\u001b[0m \u001b[0;31m# (times[1]-times[0]).total_seconds()\u001b[0m\u001b[0;34m\u001b[0m\u001b[0;34m\u001b[0m\u001b[0m\n",
        "\u001b[0;31mTypeError\u001b[0m: unsupported operand type(s) for *: 'datetime.datetime' and 'int'"
       ]
      }
     ],
     "prompt_number": 142
    },
    {
     "cell_type": "code",
     "collapsed": false,
     "input": [
      "(datetime(2014, 3,16, 12, 22)-datetime(1970, 1, 1)).total_seconds()"
     ],
     "language": "python",
     "metadata": {},
     "outputs": [
      {
       "metadata": {},
       "output_type": "pyout",
       "prompt_number": 150,
       "text": [
        "1394972520.0"
       ]
      }
     ],
     "prompt_number": 150
    },
    {
     "cell_type": "code",
     "collapsed": false,
     "input": [
      "# min([x['ZSESSIONSTART'] for x in db['ZSLEEPSESSION']])\n",
      "convert_time(max([x['ZSESSIONSTART'] for x in db['ZSLEEPSESSION']]))\n",
      "#x = (datetime(2014, 3,16, 12, 22)-datetime(1970, 1, 1))\n",
      "#print "
     ],
     "language": "python",
     "metadata": {},
     "outputs": [
      {
       "metadata": {},
       "output_type": "pyout",
       "prompt_number": 178,
       "text": [
        "datetime.datetime(2014, 6, 7, 5, 0, 7, 72000)"
       ]
      }
     ],
     "prompt_number": 178
    },
    {
     "cell_type": "code",
     "collapsed": false,
     "input": [
      "x = db['ZSLEEPSESSION'].find_one()\n",
      "y = db['ZSLEEPSESSION'].find_one(Z_PK=3)\n",
      "z = db['ZSLEEPSESSION'].find_one(Z_PK=4)\n",
      "print x['ZSTATTOTALDURATION']/(x['ZSESSIONEND']-x['ZSESSIONSTART']).total_seconds()\n"
     ],
     "language": "python",
     "metadata": {},
     "outputs": [
      {
       "output_type": "stream",
       "stream": "stdout",
       "text": [
        "1000.00001484\n"
       ]
      }
     ],
     "prompt_number": 215
    },
    {
     "cell_type": "code",
     "collapsed": false,
     "input": [
      "print (datetime(2014,3,17,12,22)-x['ZSESSIONSTART']).total_seconds()\n",
      "print (datetime(2014,3,17,7,31)-x['ZSESSIONEND']).total_seconds()"
     ],
     "language": "python",
     "metadata": {},
     "outputs": [
      {
       "output_type": "stream",
       "stream": "stdout",
       "text": [
        "1394642186.27\n",
        "1394624700.52\n"
       ]
      }
     ],
     "prompt_number": 203
    },
    {
     "cell_type": "code",
     "collapsed": false,
     "input": [
      "print convert_time(x['ZSESSIONSTART']), '-- 12:22'\n",
      "print convert_time(x['ZSESSIONEND']), '-- 7:31'\n",
      "print convert_time(y['ZSESSIONSTART']), '-- 2:20'\n",
      "print convert_time(y['ZSESSIONEND']), '-- 8:30'\n",
      "print convert_time(z['ZSESSIONSTART']), '-- 12:32'\n",
      "print convert_time(z['ZSESSIONEND']), '-- 7:31'"
     ],
     "language": "python",
     "metadata": {},
     "outputs": [
      {
       "output_type": "stream",
       "stream": "stdout",
       "text": [
        "2014-03-17 00:22:00 -- 12:22\n",
        "2014-03-17 07:31:08.638000 -- 7:31\n",
        "2014-03-18 02:20:05.181000 -- 2:20\n",
        "2014-03-18 08:30:37.336000 -- 8:30\n",
        "2014-03-19 00:32:30.294000 -- 12:32\n",
        "2014-03-19 07:31:41.922000 -- 7:31\n"
       ]
      }
     ],
     "prompt_number": 216
    },
    {
     "cell_type": "code",
     "collapsed": false,
     "input": [
      "datetime.fromtimestamp(416733.72699)"
     ],
     "language": "python",
     "metadata": {},
     "outputs": [
      {
       "metadata": {},
       "output_type": "pyout",
       "prompt_number": 160,
       "text": [
        "datetime.datetime(1970, 1, 5, 11, 45, 33, 726990)"
       ]
      }
     ],
     "prompt_number": 160
    },
    {
     "cell_type": "code",
     "collapsed": false,
     "input": [
      "min: 416733.72699\n",
      "max: 423903.614062"
     ],
     "language": "python",
     "metadata": {},
     "outputs": []
    }
   ],
   "metadata": {}
  }
 ]
}